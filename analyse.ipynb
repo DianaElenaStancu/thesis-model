{
 "cells": [
  {
   "cell_type": "code",
   "execution_count": null,
   "id": "initial_id",
   "metadata": {
    "collapsed": true
   },
   "outputs": [],
   "source": [
    "import matplotlib.pyplot as plt\n",
    "\n",
    "def parse_log_file(file_path):\n",
    "    data = {\n",
    "        'loss_D_fake': [],\n",
    "        'loss_D_real': [],\n",
    "        'loss_D': [],\n",
    "        'loss_G_GAN': [],\n",
    "        'loss_G_L1': [],\n",
    "        'loss_G': []\n",
    "    }\n",
    "\n",
    "    with open(file_path, 'r') as f:\n",
    "        lines = f.readlines()\n",
    "        for line in lines:\n",
    "            if 'loss_D_fake' in line:\n",
    "                data['loss_D_fake'].append(float(line.split(': ')[1].strip()))\n",
    "            elif 'loss_D_real' in line:\n",
    "                data['loss_D_real'].append(float(line.split(': ')[1].strip()))\n",
    "            elif 'loss_D' in line:\n",
    "                data['loss_D'].append(float(line.split(': ')[1].strip()))\n",
    "            elif 'loss_G_GAN' in line:\n",
    "                data['loss_G_GAN'].append(float(line.split(': ')[1].strip()))\n",
    "            elif 'loss_G_L1' in line:\n",
    "                data['loss_G_L1'].append(float(line.split(': ')[1].strip()))\n",
    "            elif 'loss_G' in line:\n",
    "                data['loss_G'].append(float(line.split(': ')[1].strip()))\n",
    "\n",
    "    return data\n",
    "\n",
    "def normalize_loss(loss_values):\n",
    "    # Normalize loss values to range [0, 1]\n",
    "    min_loss = min(loss_values)\n",
    "    max_loss = max(loss_values)\n",
    "    normalized_losses = [(loss - min_loss) / (max_loss - min_loss) for loss in loss_values]\n",
    "    return normalized_losses\n",
    "\n",
    "def normalize_loss(loss_values, all_losses):\n",
    "    # Normalize loss values to range [0, 1] based on all_losses\n",
    "    min_loss = min(all_losses)\n",
    "    max_loss = max(all_losses)\n",
    "    normalized_losses = [(loss - min_loss) / (max_loss - min_loss) for loss in loss_values]\n",
    "    return normalized_losses\n",
    "\n",
    "def plot_losses(data, preference = \"l\"):\n",
    "    num_epochs = len(data['loss_D_fake'])  #// 2 for Assuming two values per epoch\n",
    "\n",
    "    plt.figure(figsize=(10, 6))\n",
    "    for key in data:\n",
    "        if preference in key:\n",
    "            loss_values = data[key]\n",
    "            # Extract every second value since we assume two values per epoch\n",
    "            # loss_values = [loss_values[i] for i in range(0, len(loss_values), 2)]\n",
    "            epochs = range(1, num_epochs + 1)\n",
    "            plt.plot(epochs, loss_values, label=key)\n",
    "\n",
    "    plt.style.use('classic')\n",
    "    if preference  == \"D\":\n",
    "        plt.title('Discriminator Losses')\n",
    "    else:\n",
    "        plt.title('Generator Losses')\n",
    "    plt.xlabel('Epoch')\n",
    "    plt.ylabel('Loss')\n",
    "    plt.legend()\n",
    "    plt.grid(True)\n",
    "    plt.show()\n"
   ]
  },
  {
   "cell_type": "code",
   "outputs": [],
   "source": [
    "\n",
    "log_file_path = \"models/train_log.txt\"\n",
    "data = parse_log_file(log_file_path)\n",
    "# all_losses = data['loss_G_GAN'] + data['loss_G_L1'] + data['loss_G']  # Concatenate all loss values\n",
    "# data['loss_G_GAN'] = normalize_loss(data['loss_G_GAN'], all_losses)\n",
    "# data['loss_G_L1'] = normalize_loss(data['loss_G_L1'], all_losses)\n",
    "# data['loss_G'] = normalize_loss(data['loss_G'], all_losses)\n",
    "plot_losses(data, \"G\")\n",
    "\n",
    "# all_losses_D = data['loss_D_fake'] + data['loss_D_real'] + data['loss_D']  # Concatenate all discriminator loss values\n",
    "# data['loss_D_fake'] = normalize_loss(data['loss_D_fake'], all_losses_D)\n",
    "# data['loss_D_real'] = normalize_loss(data['loss_D_real'], all_losses_D)\n",
    "# data['loss_D'] = normalize_loss(data['loss_D'], all_losses_D)\n",
    "\n",
    "\n",
    "plot_losses(data, \"D\")"
   ],
   "metadata": {
    "collapsed": false
   },
   "id": "15f6f78742b26fca",
   "execution_count": null
  },
  {
   "cell_type": "code",
   "outputs": [],
   "source": [],
   "metadata": {
    "collapsed": false
   },
   "id": "2e51f060b68206c8",
   "execution_count": null
  }
 ],
 "metadata": {
  "kernelspec": {
   "display_name": "Python 3",
   "language": "python",
   "name": "python3"
  },
  "language_info": {
   "codemirror_mode": {
    "name": "ipython",
    "version": 2
   },
   "file_extension": ".py",
   "mimetype": "text/x-python",
   "name": "python",
   "nbconvert_exporter": "python",
   "pygments_lexer": "ipython2",
   "version": "2.7.6"
  }
 },
 "nbformat": 4,
 "nbformat_minor": 5
}
